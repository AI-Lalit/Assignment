{
 "cells": [
  {
   "cell_type": "markdown",
   "id": "e2bc45c3-3de1-411a-807e-edaa26eea5d1",
   "metadata": {},
   "source": [
    "29th Jan Python Assignment"
   ]
  },
  {
   "cell_type": "markdown",
   "id": "c145f741-32fc-4bc3-8bd4-6af908f2c4b8",
   "metadata": {},
   "source": [
    "1. \n",
    "Python was created by Guido van Rossum, and first released on February 20, 1991.\n",
    "\n",
    "2.\n",
    "\n",
    "Python is an interpreted programming language, supporting object-oriented, structured, and functional programming.\n",
    "\n",
    "3.\n",
    "\n",
    "Python Identifiers can only contain letters, digits, and underscores. They must start with a letter or an underscore. Python Identifiers cannot be the same as Python keywords\n",
    "\n",
    "4.\n",
    ".py\n",
    "\n",
    "\n",
    "5.\n",
    "\n",
    "\n",
    "Python is an interpreted language, which means the source code of a Python program is converted into bytecode that is then executed by the Python virtual machine. Python is different from major compiled languages, such as C and C + +, as Python code is not required to be built and linked like code for these languages.\n",
    "\n",
    "6.\n",
    "\n",
    "C, C++, and Java.\n",
    "\n",
    "\n",
    "7.\n",
    "#\n",
    "\n",
    "8.\n",
    "The function sys. version can help us to find the version of python that we are currently working on.\n",
    "\n",
    "9.\n",
    "Python supports the creation of anonymous functions (i.e. functions that are not bound to a name) at runtime, using a construct called lambda. Lambda functions are restricted to a single expression. They can be used wherever normal functions can be used.\n",
    "\n",
    "10.\n",
    "pip (an acronym of “pip Install Packages”) is today the standard tool for installing Python packages and their dependencies in a secure manner. \n",
    "\n",
    "11.\n",
    "Function\tDescription\n",
    "bin()\tReturns the binary version of a number\n",
    "bool()\tReturns the boolean value of the specified object\n",
    "bytearray()\tReturns an array of bytes\n",
    "bytes()\tReturns a bytes object\n",
    "\n",
    "12\n",
    "\n",
    "An identifier can have a maximum length of 79 characters in Python.\n",
    "\n",
    "13.\n",
    "Top reason to use Python\n",
    "•\tData science.\n",
    "•\tScientific and mathematical computing.\n",
    "•\tWeb development.\n",
    "•\tFinance and trading.\n",
    "•\tSystem automation and administration.\n",
    "•\tComputer graphics.\n",
    "•\tBasic game development.\n",
    "•\tSecurity and penetration testing.\n",
    "\n",
    "14.\n",
    "Memory management in Python involves a private heap containing all Python objects and data structures. The management of this private heap is ensured internally by the Python memory manager.\n",
    "\n",
    "15.\n",
    "1.\tRight-clicking This PC and going to Properties.\n",
    "2.\tClicking on the Advanced system settings in the menu on the left.\n",
    "3.\tClicking on the Environment Variables button on the bottom right.\n",
    "4.\tIn the System variables section, selecting the Path variable and clicking on Edit.\n",
    "\n",
    "16\n",
    "Where in other programming languages the indentation in code is for readability only, the indentation in Python is very important. Python uses indentation to indicate a block of code."
   ]
  },
  {
   "cell_type": "code",
   "execution_count": null,
   "id": "aee4f5a0-eac7-4f3e-acba-8adc6e18e502",
   "metadata": {},
   "outputs": [],
   "source": []
  }
 ],
 "metadata": {
  "kernelspec": {
   "display_name": "Python 3 (ipykernel)",
   "language": "python",
   "name": "python3"
  },
  "language_info": {
   "codemirror_mode": {
    "name": "ipython",
    "version": 3
   },
   "file_extension": ".py",
   "mimetype": "text/x-python",
   "name": "python",
   "nbconvert_exporter": "python",
   "pygments_lexer": "ipython3",
   "version": "3.10.8"
  }
 },
 "nbformat": 4,
 "nbformat_minor": 5
}
