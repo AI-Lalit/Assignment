{
 "cells": [
  {
   "cell_type": "markdown",
   "id": "e18062af-acea-4b40-8b0f-df68ea5e598d",
   "metadata": {},
   "source": [
    "03 Feb_AssQ_Hindi"
   ]
  },
  {
   "cell_type": "markdown",
   "id": "8f18ea09-67fe-4035-9876-75a0ee1ceba6",
   "metadata": {},
   "source": [
    "Q1. Which keyword is used to create a function? Create a function to return a list of odd numbers in the\n",
    "range of 1 to 25."
   ]
  },
  {
   "cell_type": "code",
   "execution_count": 5,
   "id": "7a35a8c6-339a-4b09-98d9-518fe5cb49c1",
   "metadata": {},
   "outputs": [],
   "source": [
    "# Def key work use to create a function.\n",
    "n = 25\n",
    "def fun_odd(n):\n",
    "    for i in range(n):\n",
    "        if i%2 != 0:\n",
    "            print(i)          "
   ]
  },
  {
   "cell_type": "markdown",
   "id": "edb29845-cdc4-4150-b9d3-867e07fdd974",
   "metadata": {},
   "source": [
    "Q2. Why *args and **kwargs is used in some functions? Create a function each for *args and **kwargs\n",
    "to demonstrate their use."
   ]
  },
  {
   "cell_type": "markdown",
   "id": "5676214f-34ac-4bf6-9a8a-362753131ba1",
   "metadata": {},
   "source": [
    "Python *args\n",
    "As in the above example we are not sure about the number of arguments that can be passed to a function. Python has *args which allow us to pass the variable number of non keyword arguments to function.\n",
    "In the function, we should use an asterisk * before the parameter name to pass variable length arguments.The arguments are passed as a tuple and these passed arguments make tuple inside the function with same name as the parameter excluding asterisk *.\n",
    "\n",
    "Python **kwargs\n",
    "Python passes variable length non keyword argument to function using *args but we cannot use this to pass keyword argument. For this problem Python has got a solution called **kwargs, it allows us to pass the variable length of keyword arguments to the function.\n",
    "In the function, we use the double asterisk ** before the parameter name to denote this type of argument. The arguments are passed as a dictionary and these arguments make a dictionary inside function with name same as the parameter excluding double asterisk **.\n",
    "\n",
    "    "
   ]
  },
  {
   "cell_type": "code",
   "execution_count": 7,
   "id": "ec6fb274-1e67-4476-83e3-7c136f8387a9",
   "metadata": {},
   "outputs": [],
   "source": [
    "#examle of *args\n",
    "def add1(*num):\n",
    "    sum = 0\n",
    "    \n",
    "    for n in num:\n",
    "        sum = sum + n\n",
    "\n",
    "    print(\"Sum:\",sum)"
   ]
  },
  {
   "cell_type": "code",
   "execution_count": 8,
   "id": "2f0b27d4-7e3b-4cbc-8770-f4da0d5dccdc",
   "metadata": {},
   "outputs": [
    {
     "name": "stdout",
     "output_type": "stream",
     "text": [
      "Sum: 25\n"
     ]
    }
   ],
   "source": [
    "add1(15,10)"
   ]
  },
  {
   "cell_type": "code",
   "execution_count": 9,
   "id": "9620e535-1ec5-4e11-a1dd-b347bca115a3",
   "metadata": {},
   "outputs": [
    {
     "name": "stdout",
     "output_type": "stream",
     "text": [
      "{'banana': 5, 'mango': 7, 'apple': 8} <class 'dict'>\n"
     ]
    }
   ],
   "source": [
    "#examle of **kwargs\n",
    "def total_fruits(**kwargs):\n",
    "    print(kwargs, type(kwargs))\n",
    "\n",
    "\n",
    "total_fruits(banana=5, mango=7, apple=8)"
   ]
  },
  {
   "cell_type": "markdown",
   "id": "94802485-1036-478f-9cb2-f6a2c120c426",
   "metadata": {},
   "source": [
    "Q3. What is an iterator in python? Name the method used to initialise the iterator object and the method\n",
    "used for iteration. Use these methods to print the first five elements of the given list [2, 4, 6, 8, 10, 12, 14,16, 18, 20]."
   ]
  },
  {
   "cell_type": "markdown",
   "id": "d306a000-7671-4a61-8453-1ac1198d2486",
   "metadata": {},
   "source": [
    "Ans: \n",
    "An iterator in Python is an object that is used to iterate over iterable objects like lists, tuples, dicts, and sets. The Python iterators object is initialized using the iter() method. It uses the next() method for iteration.\n",
    "\n",
    "__iter__(): The iter() method is called for the initialization of an iterator. This returns an iterator object\n",
    "__next__(): The next method returns the next value for the iterable. When we use a for loop to traverse any iterable object, internally it uses the iter() method to get an iterator object, which further uses the next() method to iterate over. This method raises a StopIteration to signal the end of the iteration."
   ]
  },
  {
   "cell_type": "code",
   "execution_count": 18,
   "id": "217ffca8-139e-4a5e-968f-65fdab928f8d",
   "metadata": {},
   "outputs": [],
   "source": [
    "mylist = [2, 4, 6, 8, 10, 12, 14,16, 18, 20]"
   ]
  },
  {
   "cell_type": "code",
   "execution_count": 23,
   "id": "c7cef0f6-c374-4a4a-9b82-5e6cadeb0ac2",
   "metadata": {},
   "outputs": [
    {
     "name": "stdout",
     "output_type": "stream",
     "text": [
      "2\n",
      "4\n",
      "6\n",
      "8\n",
      "10\n"
     ]
    }
   ],
   "source": [
    "l1 = iter(mylist)\n",
    "print(next(l1))\n",
    "print(next(l1))\n",
    "print(next(l1))\n",
    "print(next(l1))\n",
    "print(next(l1))"
   ]
  },
  {
   "cell_type": "markdown",
   "id": "635f7246-8f9f-4e12-8849-0148b27c040c",
   "metadata": {},
   "source": [
    "Q4. What is a generator function in python? Why yield keyword is used? Give an example of a generator function."
   ]
  },
  {
   "cell_type": "markdown",
   "id": "6ffab3fb-76c3-4030-b02f-77a5803a3b8a",
   "metadata": {},
   "source": [
    "Ans:\n",
    "The Yield keyword in Python is similar to a return statement used for returning values or objects in Python. However, there is a slight difference. The yield statement returns a generator object to the one who calls the function which contains yield, instead of simply returning a value."
   ]
  },
  {
   "cell_type": "code",
   "execution_count": 24,
   "id": "b98a6f4c-cd3a-4618-9b29-432501d6563e",
   "metadata": {},
   "outputs": [],
   "source": [
    "#example:\n",
    "def count_test(n):\n",
    "    count = 1\n",
    "    while count <= n :\n",
    "        yield count\n",
    "        count = count+1"
   ]
  },
  {
   "cell_type": "markdown",
   "id": "9683f29b-6f50-4675-a9ce-6a697a5f6131",
   "metadata": {},
   "source": [
    "Q5. Create a generator function for prime numbers less than 1000. Use the next() method to print the first 20 prime numbers."
   ]
  },
  {
   "cell_type": "code",
   "execution_count": 33,
   "id": "8b52d7a2-52ea-41eb-ae01-ee7494d6ab86",
   "metadata": {},
   "outputs": [],
   "source": [
    "# Ans 5:\n",
    "def prime_num():\n",
    "    for num in range (0, 1000):  \n",
    "        if num > 1:  \n",
    "            for i in range (2, num):  \n",
    "                if (num % i) == 0:  \n",
    "                    break  \n",
    "            else:  \n",
    "                yield num"
   ]
  },
  {
   "cell_type": "code",
   "execution_count": 34,
   "id": "3be93284-3772-4b36-908e-3af8359fc086",
   "metadata": {},
   "outputs": [],
   "source": [
    "prime = prime_num()"
   ]
  },
  {
   "cell_type": "code",
   "execution_count": 35,
   "id": "49ee0aee-e513-4f17-a8f9-f7e7276045ab",
   "metadata": {},
   "outputs": [
    {
     "name": "stdout",
     "output_type": "stream",
     "text": [
      "2\n",
      "3\n",
      "5\n",
      "7\n",
      "11\n",
      "13\n",
      "17\n",
      "19\n",
      "23\n",
      "29\n",
      "31\n",
      "37\n",
      "41\n",
      "43\n",
      "47\n",
      "53\n",
      "59\n",
      "61\n",
      "67\n",
      "71\n"
     ]
    }
   ],
   "source": [
    "for i in range(20):\n",
    "    print(next(prime))"
   ]
  },
  {
   "cell_type": "markdown",
   "id": "15fbc6e1-47a5-466d-bbd1-84cf7e7d61e2",
   "metadata": {},
   "source": [
    "Q6. Write a python program to print the first 10 Fibonacci numbers using a while loop."
   ]
  },
  {
   "cell_type": "code",
   "execution_count": 38,
   "id": "803ae388-1de3-4656-a2fd-49df6a5514b8",
   "metadata": {},
   "outputs": [],
   "source": [
    "# Ans:\n",
    "def test_fib1():\n",
    "    n = 1\n",
    "    a,b = 0,1\n",
    "    while n <=10:\n",
    "        print (a, end = \" \")\n",
    "        a,b = b,a+b\n",
    "        n = n+1"
   ]
  },
  {
   "cell_type": "code",
   "execution_count": 39,
   "id": "2911be0f-c3ed-4d43-9aac-7aa3272975f6",
   "metadata": {},
   "outputs": [
    {
     "name": "stdout",
     "output_type": "stream",
     "text": [
      "0 1 1 2 3 5 8 13 21 34 "
     ]
    }
   ],
   "source": [
    "test_fib1()"
   ]
  },
  {
   "cell_type": "markdown",
   "id": "52cb91f2-786f-4ad8-bd1d-9b5b299f0456",
   "metadata": {},
   "source": [
    "Q7. Write a List Comprehension to iterate through the given string: ‘pwskills’.\n",
    "Expected output: ['p', 'w', 's', 'k', 'i', 'l', 'l', 's']"
   ]
  },
  {
   "cell_type": "code",
   "execution_count": 48,
   "id": "bc25f1ee-daf3-4d54-b260-f60036eb7031",
   "metadata": {},
   "outputs": [
    {
     "name": "stdout",
     "output_type": "stream",
     "text": [
      "['p', 'w', 's', 'k', 'i', 'l', 'l', 's']\n"
     ]
    }
   ],
   "source": [
    "name = []\n",
    "\n",
    "for letter in 'pwskills':\n",
    "    name.append(letter)\n",
    "    \n",
    "print(name)"
   ]
  },
  {
   "cell_type": "markdown",
   "id": "6fb4ca9c-cbf7-4585-be00-9cc655437e36",
   "metadata": {},
   "source": [
    "Q8. Write a python program to check whether a given number is Palindrome or not using a while loop."
   ]
  },
  {
   "cell_type": "code",
   "execution_count": 46,
   "id": "2595566d-68ff-4a7f-aea4-b931a4e21784",
   "metadata": {},
   "outputs": [
    {
     "name": "stdin",
     "output_type": "stream",
     "text": [
      "Enter a string: 123321\n"
     ]
    },
    {
     "name": "stdout",
     "output_type": "stream",
     "text": [
      "The string is a palindrome\n"
     ]
    }
   ],
   "source": [
    "string=input((\"Enter a string:\"))\n",
    "if(string==string[::-1]):\n",
    "      print(\"The string is a palindrome\")\n",
    "else:\n",
    "      print(\"Not a palindrome\")"
   ]
  },
  {
   "cell_type": "markdown",
   "id": "be2eb792-f9e2-465f-a658-40c15497787f",
   "metadata": {},
   "source": [
    "Q9. Write a code to print odd numbers from 1 to 100 using list comprehension.\n"
   ]
  },
  {
   "cell_type": "code",
   "execution_count": 50,
   "id": "9c856cae-f95c-4ccd-a96f-3408c864d71a",
   "metadata": {},
   "outputs": [
    {
     "name": "stdout",
     "output_type": "stream",
     "text": [
      "[1, 3, 5, 7, 9, 11, 13, 15, 17, 19, 21, 23, 25, 27, 29, 31, 33, 35, 37, 39, 41, 43, 45, 47, 49, 51, 53, 55, 57, 59, 61, 63, 65, 67, 69, 71, 73, 75, 77, 79, 81, 83, 85, 87, 89, 91, 93, 95, 97, 99]\n"
     ]
    }
   ],
   "source": [
    "odd_num = []\n",
    "\n",
    "for i in range(1,101):\n",
    "    if i %2 !=0:\n",
    "        odd_num.append(i)\n",
    "    \n",
    "print(odd_num)"
   ]
  }
 ],
 "metadata": {
  "kernelspec": {
   "display_name": "Python 3 (ipykernel)",
   "language": "python",
   "name": "python3"
  },
  "language_info": {
   "codemirror_mode": {
    "name": "ipython",
    "version": 3
   },
   "file_extension": ".py",
   "mimetype": "text/x-python",
   "name": "python",
   "nbconvert_exporter": "python",
   "pygments_lexer": "ipython3",
   "version": "3.10.8"
  }
 },
 "nbformat": 4,
 "nbformat_minor": 5
}
