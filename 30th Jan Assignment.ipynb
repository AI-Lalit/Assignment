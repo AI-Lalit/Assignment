{
 "cells": [
  {
   "cell_type": "code",
   "execution_count": 9,
   "id": "3c9d741c-1e2a-44e5-828a-e69e0ce6086e",
   "metadata": {},
   "outputs": [
    {
     "name": "stdin",
     "output_type": "stream",
     "text": [
      "Enter your Percentage : 99\n"
     ]
    },
    {
     "name": "stdout",
     "output_type": "stream",
     "text": [
      "Your grade is A\n"
     ]
    }
   ],
   "source": [
    "# # 1.\tWritea program to accept percontage from the user and display tho grade according to the following criteria:\n",
    "# Matks\tGrade\n",
    "# >90\tA\n",
    "# :>80and <=90\tB\n",
    "# >=60 and <=80\tC\n",
    "# below60\tD\n",
    "\n",
    "#Solution:\n",
    "p = int(input(\"Enter your Percentage :\"))\n",
    "\n",
    "if p > 90 :\n",
    "    print(\"Your grade is A\")\n",
    "elif p<=90 and p>80 :\n",
    "    print(\"Your grade is B\")\n",
    "elif p<=80 and p>=60 :\n",
    "    print(\"Your grade is C\")\n",
    "else :\n",
    "    print(\"Your grade is D\")"
   ]
  },
  {
   "cell_type": "code",
   "execution_count": 15,
   "id": "287df2ee-e373-4c41-b889-df5f1f038b8a",
   "metadata": {},
   "outputs": [
    {
     "name": "stdin",
     "output_type": "stream",
     "text": [
      "Enter your Cost price of bike : 100000\n"
     ]
    },
    {
     "name": "stdout",
     "output_type": "stream",
     "text": [
      "Road Tax 10% i.e. 10000.0\n"
     ]
    }
   ],
   "source": [
    "# 2. Write a program to accept the cost price of a bike and display the  road\n",
    "# tax to be paid according to the followign criteria:\n",
    "# Tax\tCost Price(in Rs)\n",
    "# 15%\t>100000\n",
    "# 10%\t>50000 and <= 100000\n",
    "# 5%\t< = 50000\n",
    "\n",
    "# Solution:\n",
    "cost = int(input(\"Enter your Cost price of bike :\"))\n",
    "\n",
    "if cost > 100000 :\n",
    "    print(\"Road Tax 15% i.e.\",(cost*15)/100)\n",
    "elif cost > 50000 :\n",
    "    print(\"Road Tax 10% i.e.\",(cost*10)/100)\n",
    "else :\n",
    "    print(\"Road Tax 5% i.e.\",(cost*5)/100)"
   ]
  },
  {
   "cell_type": "code",
   "execution_count": 21,
   "id": "b5720524-9031-4189-8e16-c7c1d908366e",
   "metadata": {},
   "outputs": [
    {
     "name": "stdin",
     "output_type": "stream",
     "text": [
      "Enter the City Name : Jaipur\n"
     ]
    },
    {
     "name": "stdout",
     "output_type": "stream",
     "text": [
      "monument in Jaipur is 'Jal Mahal'\n"
     ]
    }
   ],
   "source": [
    "# 3. Accept any city from the user and display monuments of that city.\n",
    "\n",
    "# City\tMonument\n",
    "# Delhi\tRed Fort\n",
    "# Agra\tTaj Mahal\n",
    "# Jaipur\tJal Mahal\n",
    "\n",
    "#solution:\n",
    "\n",
    "city = input(\"Enter the City Name :\")\n",
    "\n",
    "if city == \"Delhi\" :\n",
    "    print(\"monument in Delhi is 'Red Fort'\")\n",
    "elif city == \"Agra\" :\n",
    "    print(\"monument in Agra is 'Taj Mahal'\")\n",
    "elif city == \"Jaipur\" :\n",
    "    print(\"monument in Jaipur is 'Jal Mahal'\")\n"
   ]
  },
  {
   "cell_type": "code",
   "execution_count": 25,
   "id": "d83e7703-0227-4068-a761-638e9fa842a6",
   "metadata": {},
   "outputs": [
    {
     "name": "stdin",
     "output_type": "stream",
     "text": [
      "Enter your number : 90\n"
     ]
    },
    {
     "name": "stdout",
     "output_type": "stream",
     "text": [
      "Your number max. divided by 3 = 3 times\n"
     ]
    }
   ],
   "source": [
    "# 4. Check how many times a given numbers can  be divided by 3 before it is less than or equal to 10.\n",
    "\n",
    "num = int(input(\"Enter your number :\"))\n",
    "div_count = 0\n",
    "\n",
    "\n",
    "while num >=10 :\n",
    "    num = num/3\n",
    "    div_count = div_count + 1\n",
    "\n",
    "print(\"Your number max. divided by 3 =\",div_count,\"times\")\n"
   ]
  },
  {
   "cell_type": "code",
   "execution_count": 26,
   "id": "51a85375-c3d5-4fa6-b8f0-d156682209c1",
   "metadata": {},
   "outputs": [],
   "source": [
    "# 5 Why and When to use while loop in python  give a detailed description with example.\n",
    "# Solution:\n",
    "# A While loop in Python allows a part of the code to be executed repeatedly as long as a given condition is true.\n",
    "# The While loop in Python is also called a pre-tested loop. It is typically used when the number of iterations is not known\n",
    "# See above example"
   ]
  },
  {
   "cell_type": "code",
   "execution_count": 30,
   "id": "ef050fa7-503e-491f-bb11-a66cb0c4ec2c",
   "metadata": {},
   "outputs": [
    {
     "name": "stdin",
     "output_type": "stream",
     "text": [
      "Enter number of rows :  6\n"
     ]
    },
    {
     "name": "stdout",
     "output_type": "stream",
     "text": [
      "* \n",
      "* * \n",
      "* * * \n",
      "* * * * \n",
      "* * * * * \n",
      "* * * * * * \n"
     ]
    }
   ],
   "source": [
    "# 6 use nested while loop to print 3 different pattern.\n",
    "\n",
    "# Solution:\n",
    "\n",
    "n = int(input('Enter number of rows : '))\n",
    " \n",
    "i = 1\n",
    "while i <= n :\n",
    "    j = 1\n",
    "    while j <= i:\n",
    "        print(\"*\", end = \" \")\n",
    "        j += 1\n",
    "    print()\n",
    "    i += 1"
   ]
  },
  {
   "cell_type": "code",
   "execution_count": null,
   "id": "d536badd-e967-4368-8fd7-ebbddaf6e6cf",
   "metadata": {},
   "outputs": [],
   "source": []
  },
  {
   "cell_type": "code",
   "execution_count": 29,
   "id": "c4ac4d74-1d92-4104-a97d-3a81d79697dd",
   "metadata": {},
   "outputs": [
    {
     "name": "stdout",
     "output_type": "stream",
     "text": [
      "10\n",
      "9\n",
      "8\n",
      "7\n",
      "6\n",
      "5\n",
      "4\n",
      "3\n",
      "2\n",
      "1\n"
     ]
    }
   ],
   "source": [
    "# 7 Reverse a while loop to display numbers from 10 to 1.\n",
    "# 8 Reverse a while loop to display numbers from 10 to 1.\n",
    "\n",
    "# Solution:\n",
    "\n",
    "num = 10\n",
    "\n",
    "while num > 0 :\n",
    "    print(num)\n",
    "    num = num -1\n"
   ]
  }
 ],
 "metadata": {
  "kernelspec": {
   "display_name": "Python 3 (ipykernel)",
   "language": "python",
   "name": "python3"
  },
  "language_info": {
   "codemirror_mode": {
    "name": "ipython",
    "version": 3
   },
   "file_extension": ".py",
   "mimetype": "text/x-python",
   "name": "python",
   "nbconvert_exporter": "python",
   "pygments_lexer": "ipython3",
   "version": "3.10.8"
  }
 },
 "nbformat": 4,
 "nbformat_minor": 5
}
