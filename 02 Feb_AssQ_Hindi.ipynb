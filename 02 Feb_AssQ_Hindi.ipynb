{
 "cells": [
  {
   "cell_type": "markdown",
   "id": "bc07eb02-9bd2-4a0f-961a-999015f6f6dd",
   "metadata": {},
   "source": [
    "# 02 Feb Assignment Q Hindi"
   ]
  },
  {
   "cell_type": "code",
   "execution_count": 1,
   "id": "753bbb59-7a3a-4175-89a9-c50fc2b4f53a",
   "metadata": {},
   "outputs": [
    {
     "name": "stdout",
     "output_type": "stream",
     "text": [
      "1\n",
      "2\n",
      "3\n",
      "4\n",
      "5\n",
      "6\n",
      "7\n",
      "8\n"
     ]
    }
   ],
   "source": [
    "# Q1 Explain with an example each when to use a for loop and a while loop.\n",
    "\n",
    "\n",
    "# Ans:\n",
    "# The for loop is used when we know how many no. of times loop run. \n",
    "# The while loop prefare when we want to end / exit the loop when a specific condition true.\n",
    "\n",
    "l1 = [1,2,3,4,5,6,7,8]\n",
    "\n",
    "#for loop example: Show all list variable.\n",
    "\n",
    "for i in l1:\n",
    "    print(i)"
   ]
  },
  {
   "cell_type": "code",
   "execution_count": 2,
   "id": "505cbdf7-d587-4ede-a4e1-943ea788189d",
   "metadata": {},
   "outputs": [
    {
     "name": "stdout",
     "output_type": "stream",
     "text": [
      "1\n",
      "2\n",
      "3\n",
      "4\n",
      "5\n",
      "6\n"
     ]
    }
   ],
   "source": [
    "# While Loop example: Show the list of all variable until variable is > 6\n",
    "i = 0\n",
    "while l1[i] <= 6 :\n",
    "    print(l1[i])\n",
    "    i = i+1"
   ]
  },
  {
   "cell_type": "code",
   "execution_count": null,
   "id": "13423241-2c4f-4bac-baf5-3f42aa93c907",
   "metadata": {},
   "outputs": [],
   "source": []
  },
  {
   "cell_type": "markdown",
   "id": "1b822c86-5483-4646-8800-2dfc6b513d31",
   "metadata": {},
   "source": [
    "# # Q2 write a python program to print the sum and product of the first 10 natural numbers using for an while loop."
   ]
  },
  {
   "cell_type": "code",
   "execution_count": 33,
   "id": "0ec1aacb-053d-4807-a525-3a424553387b",
   "metadata": {},
   "outputs": [
    {
     "name": "stdout",
     "output_type": "stream",
     "text": [
      "Sum of first 10 natural no. = 55\n",
      "product of first 10 natural no. = 3628800\n"
     ]
    }
   ],
   "source": [
    "# for loop to sum and product for first 10 antural nos.\n",
    "n = 0\n",
    "s1 = 0\n",
    "p1 = 1\n",
    "\n",
    "for i in range(10):\n",
    "    n = n + 1\n",
    "    s1 = s1 + n\n",
    "    p1 = p1 * n\n",
    "print(\"Sum of first 10 natural no. =\",s1)\n",
    "print(\"product of first 10 natural no. =\",p1)"
   ]
  },
  {
   "cell_type": "code",
   "execution_count": 36,
   "id": "5f132d07-682b-45c7-83e9-60d30aefc55e",
   "metadata": {},
   "outputs": [
    {
     "name": "stdout",
     "output_type": "stream",
     "text": [
      "Sum of first 10 natural no. = 55\n",
      "product of first 10 natural no. = 3628800\n"
     ]
    }
   ],
   "source": [
    "# While while to sum and product for first 10 antural nos.\n",
    "n = 0\n",
    "s1 = 0\n",
    "p1 = 1\n",
    "\n",
    "while n <10:\n",
    "    n = n + 1\n",
    "    s1 = s1 + n\n",
    "    p1 = p1 * n\n",
    "print(\"Sum of first 10 natural no. =\",s1)\n",
    "print(\"product of first 10 natural no. =\",p1)\n"
   ]
  },
  {
   "cell_type": "code",
   "execution_count": 3,
   "id": "bdc3a17e-fdf0-400c-bec5-dc34f3f53d33",
   "metadata": {},
   "outputs": [],
   "source": [
    "# Q3. Create a python program to compute the electricity bill for a household.\n",
    "# The per-unit charges in rupees are as follows:\n",
    "# For the first 100 units, the user will becharged Rs. 4.5 per unit,\n",
    "# for the next 100 units, the user will becharged Rs. 6 per unit,\n",
    "# and for the next 100 units, the user will becharged Rs. 10 per unit,\n",
    "# After 300 units and above the user will becharged Rs. 20 per unit.\n",
    "# You are required to take the units of electricity consumed in a month from the user as input."
   ]
  },
  {
   "cell_type": "code",
   "execution_count": 5,
   "id": "fa876528-e93f-4b52-98ca-32e7da8de27b",
   "metadata": {},
   "outputs": [
    {
     "name": "stdin",
     "output_type": "stream",
     "text": [
      "Enter no. of unit : 310\n"
     ]
    },
    {
     "name": "stdout",
     "output_type": "stream",
     "text": [
      "Your Bill = 2250.0\n"
     ]
    }
   ],
   "source": [
    "unit = int(input(\"Enter no. of unit :\"))\n",
    "bill = 0\n",
    "\n",
    "if unit >= 300 :\n",
    "    bill = ((unit-300)*20)+(100*10)+(100*6)+(100*4.5)\n",
    "    \n",
    "elif unit >=200 :\n",
    "    bill = ((unit-200)*10)+(100*6)+(100*4.5)\n",
    "\n",
    "elif unit >=100 :\n",
    "    bill = ((unit-100)*6)+(100*4.5)\n",
    "\n",
    "else :\n",
    "    bill = (unit*4.5)\n",
    "\n",
    "print(\"Your Bill =\",bill)\n"
   ]
  },
  {
   "cell_type": "code",
   "execution_count": 6,
   "id": "a0c96ce4-1644-44d8-a711-47e842d2a53a",
   "metadata": {},
   "outputs": [],
   "source": [
    "# Q4. Create a list of numbers from 1to 100.\n",
    "# Use for loop and while loop to calculate the cube of each number \n",
    "# and if the cube of that number is divisible by 4 or 5 \n",
    "# then append that number in a list and print that list."
   ]
  },
  {
   "cell_type": "code",
   "execution_count": 70,
   "id": "95a83303-32c7-49c8-9f33-d1b380f65422",
   "metadata": {},
   "outputs": [
    {
     "name": "stdout",
     "output_type": "stream",
     "text": [
      "1 1\n",
      "2 8\n",
      "3 27\n",
      "4 64\n",
      "5 125\n",
      "6 216\n",
      "7 343\n",
      "8 512\n",
      "9 729\n",
      "10 1000\n",
      "[1, 2, 3, 4, 5, 6, 7, 8, 9, 10, 8, 64, 125, 216, 512, 1000]\n",
      "1 1\n",
      "2 8\n",
      "3 27\n",
      "4 64\n",
      "5 125\n",
      "6 216\n",
      "7 343\n",
      "8 512\n",
      "9 729\n",
      "10 1000\n",
      "[1, 2, 3, 4, 5, 6, 7, 8, 9, 10, 8, 64, 125, 216, 512, 1000, 8, 64, 125, 216, 512, 1000]\n"
     ]
    },
    {
     "data": {
      "text/plain": [
       "[64,\n",
       " 125,\n",
       " 512,\n",
       " 1000,\n",
       " 512,\n",
       " 262144,\n",
       " 1953125,\n",
       " 10077696,\n",
       " 134217728,\n",
       " 1000000000,\n",
       " 512,\n",
       " 262144,\n",
       " 1953125,\n",
       " 10077696,\n",
       " 134217728,\n",
       " 1000000000]"
      ]
     },
     "execution_count": 70,
     "metadata": {},
     "output_type": "execute_result"
    }
   ],
   "source": [
    "# Solution\n",
    "# Create a list of numbers from 1to 100.\n",
    "l = []\n",
    "i = 0\n",
    "for i in range(10):\n",
    "    l.insert(i,(i+1))\n",
    "    \n",
    "# Use for loop and while loop to calculate the cube of each number\n",
    "# then append that number in a list and print that list.\n",
    "\n",
    "##Append list using for loop\n",
    "cube = 1\n",
    "for i in range(0,len(l)):\n",
    "    cube = l[i]**3\n",
    "    print(l[i], cube)\n",
    "    \n",
    "    if (cube % 4 == 0) or (cube % 5 == 0) :\n",
    "       l.append(cube)\n",
    "\n",
    "print(l)\n",
    "\n",
    "##Append list using while loop\n",
    "cube = 1\n",
    "i = 0\n",
    "while i < 10:\n",
    "    cube = l[i]**3\n",
    "    print(l[i], cube)\n",
    "    i = i + 1\n",
    "    if (cube % 4 == 0) or (cube % 5 == 0) :\n",
    "       l.append(cube)\n",
    "    \n",
    "print(l)\n",
    "\n",
    "\n",
    "# [i**3 for i in l if i%4 == 0 or i%5 == 0  ]\n"
   ]
  },
  {
   "cell_type": "code",
   "execution_count": null,
   "id": "6095205b-d379-45dc-bdab-90d36bc8acd3",
   "metadata": {},
   "outputs": [],
   "source": [
    "# Q5. Write a program to filter count vowels in the below-given string.\n",
    "# string = \"I want to become a data scientist\""
   ]
  },
  {
   "cell_type": "code",
   "execution_count": 88,
   "id": "c87daae2-5c67-43e7-8e27-55f8431bc455",
   "metadata": {},
   "outputs": [
    {
     "name": "stdout",
     "output_type": "stream",
     "text": [
      "I\n",
      "a\n",
      "o\n",
      "e\n",
      "o\n",
      "e\n",
      "a\n",
      "a\n",
      "a\n",
      "i\n",
      "e\n",
      "i\n",
      "Vowels count = 12\n",
      "Iaoeoeaaaiei\n"
     ]
    }
   ],
   "source": [
    "# solution\n",
    "string = \"I want to become a data scientist\"\n",
    "\n",
    "lenght = 0\n",
    "vowels_count = 0\n",
    "vowels = \"\"\n",
    "\n",
    "while lenght < len(string) :\n",
    "    if string[lenght] == \"a\" or string[lenght] == \"e\" or string[lenght] == \"i\" or string[lenght] == \"o\" or string[lenght] == \"u\" or string[lenght] == \"A\" or string[lenght] == \"E\" or string[lenght] == \"I\" or string[lenght] == \"O\" or string[lenght] == \"U\"  :\n",
    "        \n",
    "        print(string[lenght])\n",
    "        vowels = vowels + string[lenght]\n",
    "        vowels_count = vowels_count +1\n",
    "                \n",
    "    lenght = lenght + 1\n",
    "\n",
    "print(\"Vowels count =\",vowels_count)\n",
    "print(vowels)"
   ]
  }
 ],
 "metadata": {
  "kernelspec": {
   "display_name": "Python 3 (ipykernel)",
   "language": "python",
   "name": "python3"
  },
  "language_info": {
   "codemirror_mode": {
    "name": "ipython",
    "version": 3
   },
   "file_extension": ".py",
   "mimetype": "text/x-python",
   "name": "python",
   "nbconvert_exporter": "python",
   "pygments_lexer": "ipython3",
   "version": "3.10.8"
  }
 },
 "nbformat": 4,
 "nbformat_minor": 5
}
